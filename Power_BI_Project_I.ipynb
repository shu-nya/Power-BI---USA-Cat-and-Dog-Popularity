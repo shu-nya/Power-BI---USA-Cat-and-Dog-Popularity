{
  "nbformat": 4,
  "nbformat_minor": 0,
  "metadata": {
    "colab": {
      "provenance": [],
      "include_colab_link": true
    },
    "kernelspec": {
      "name": "python3",
      "display_name": "Python 3"
    },
    "language_info": {
      "name": "python"
    }
  },
  "cells": [
    {
      "cell_type": "markdown",
      "metadata": {
        "id": "view-in-github",
        "colab_type": "text"
      },
      "source": [
        "<a href=\"https://colab.research.google.com/github/shu-nya/Power-BI---USA-Cat-and-Dog-Popularity/blob/main/Power_BI_Project_I.ipynb\" target=\"_parent\"><img src=\"https://colab.research.google.com/assets/colab-badge.svg\" alt=\"Open In Colab\"/></a>"
      ]
    },
    {
      "cell_type": "markdown",
      "source": [
        "# ***Students have to choose and submit the link of their Power BI project from the list given below.***\n",
        "---"
      ],
      "metadata": {
        "id": "Q76rNdYZn0zg"
      }
    },
    {
      "cell_type": "markdown",
      "source": [
        "## **Power BI Project-I**\n",
        "\n",
        "1. Cat vs Dog Popularity in the U.S.\n",
        "\n",
        "2. U.S. Home Sales, 1963-2016\n",
        "\n",
        "5. FIFA 18 Player Ratings\n",
        "\n",
        "4. Magnitude 6+ Earthquakes"
      ],
      "metadata": {
        "id": "Tp7fZYMgr7Ze"
      }
    },
    {
      "cell_type": "markdown",
      "source": [
        "**Please find datasets drive links of above mentioned Power BI Project here:**\n",
        "---"
      ],
      "metadata": {
        "id": "zucopMzRxJs2"
      }
    },
    {
      "cell_type": "markdown",
      "source": [
        "1. **Cat vs Dog Popularity in the U.S.**\n",
        "\n",
        "  * Drive Links--->https://drive.google.com/drive/folders/1S3xf0zJkBSxRczVKSAijKh6PtmExJOxi?usp=sharing\n",
        "\n",
        "2. **U.S. Home Sales, 1963-2016**\n",
        "\n",
        "  * Drive Link--->https://drive.google.com/drive/folders/1BPAR8qDIF2WMz5UKJSGldkWJBpYBkv1T?usp=sharing\n",
        "\n",
        "\n",
        "3. **FIFA 18 Player Ratings**\n",
        "\n",
        "  * Drive Link--->https://drive.google.com/drive/folders/1AOLOFwY8_ulpVJIBmpS86Cd_qlmCplG_?usp=sharing\n",
        "\n",
        "4. **Magnitude 6+ Earthquakes**\n",
        "  * Drive Link --->https://drive.google.com/drive/folders/1NCsyFimsNUe_f3_4V9vNy3dkZXPRHGrl?usp=sharing"
      ],
      "metadata": {
        "id": "UYWH3JiLxxOP"
      }
    },
    {
      "cell_type": "markdown",
      "source": [
        "# ***Materials and resources***\n",
        "---\n",
        "\n",
        "\n",
        "\n",
        "\n",
        "\n",
        "\n"
      ],
      "metadata": {
        "id": "YPErsEN7oHAr"
      }
    },
    {
      "cell_type": "markdown",
      "source": [
        "**Youtube Links:**\n",
        "\n",
        "https://www.youtube.com/watch?v=et8tAUTwcvY\n",
        "\n",
        "https://www.youtube.com/watch?v=-8676S8m91w\n"
      ],
      "metadata": {
        "id": "VX7WDs2kqNYk"
      }
    },
    {
      "cell_type": "markdown",
      "source": [
        "**Materials:**\n",
        "\n",
        "https://www.techtarget.com/searchcontentmanagement/definition/Microsoft-Power-BI\n",
        "\n",
        "**Resources - > Download Power BI Desktop from here.**\n",
        "\n",
        "https://www.microsoft.com/en-us/download/details.aspx?id=58494"
      ],
      "metadata": {
        "id": "iweGxsk6qd34"
      }
    },
    {
      "cell_type": "markdown",
      "source": [
        "## ***Note: Avoid copying from eachother, copying may lead to direct rejection. This is an individual submission.***\n"
      ],
      "metadata": {
        "id": "EOz95nNa2XKn"
      }
    },
    {
      "cell_type": "markdown",
      "source": [
        "Paste your Power BI link here:\n",
        "\n",
        "https://app.powerbi.com/view?r=eyJrIjoiZTNhMDU2YWItNGNiZi00M2M5LTg5NWUtMDU2MzhlZWM4NTk2IiwidCI6ImJjMDM5YzI3LWFlMTItNGI3ZC05ZWM4LTVmMDVhODM5N2RlYiIsImMiOjEwfQ%3D%3D"
      ],
      "metadata": {
        "id": "lHXO_jcDoWxq"
      }
    },
    {
      "cell_type": "markdown",
      "source": [
        "Note: Dashboards are not available in power bi desktop.\n",
        "\n",
        "Dashboards are available in power bi service but it requires a work email to login."
      ],
      "metadata": {
        "id": "iLYKKY8ecE9A"
      }
    }
  ]
}